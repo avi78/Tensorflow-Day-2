{
  "nbformat": 4,
  "nbformat_minor": 0,
  "metadata": {
    "colab": {
      "provenance": [],
      "authorship_tag": "ABX9TyMb2E8Cvr1iRuivYNQrWIwH",
      "include_colab_link": true
    },
    "kernelspec": {
      "name": "python3",
      "display_name": "Python 3"
    },
    "language_info": {
      "name": "python"
    }
  },
  "cells": [
    {
      "cell_type": "markdown",
      "metadata": {
        "id": "view-in-github",
        "colab_type": "text"
      },
      "source": [
        "<a href=\"https://colab.research.google.com/github/avi78/Tensorflow-Day-2/blob/main/NLP_Basics.ipynb\" target=\"_parent\"><img src=\"https://colab.research.google.com/assets/colab-badge.svg\" alt=\"Open In Colab\"/></a>"
      ]
    },
    {
      "cell_type": "markdown",
      "source": [
        "## Steps for NLP Projects-\n",
        "- Import the library\n",
        "- Load text data\n",
        "- Text-Preprocessing\n",
        "- Tokenization-Preprocessing\n",
        "- Build the Model - for text: RNN\n",
        "- Compile and fit\n",
        "- Predict"
      ],
      "metadata": {
        "id": "GQT5isQBSDzR"
      }
    },
    {
      "cell_type": "code",
      "execution_count": null,
      "metadata": {
        "id": "EPJyg1qMRT-t"
      },
      "outputs": [],
      "source": [
        "import tensorflow as tf\n",
        "from tensorflow import keras"
      ]
    },
    {
      "cell_type": "code",
      "source": [
        "sentences = [\n",
        "    'Chatgpt is the famous AI application',\n",
        "    'Tensorflow is easy to use',\n",
        "    'AI war is on between Google and Microsoft',\n",
        "    'Tensorflow and Pytorch are commonly used Python frameworks'\n",
        "]"
      ],
      "metadata": {
        "id": "sFqD3jHQRktl"
      },
      "execution_count": null,
      "outputs": []
    },
    {
      "cell_type": "code",
      "source": [
        "from tensorflow.keras.preprocessing.text import Tokenizer"
      ],
      "metadata": {
        "id": "X1oYeWR-TCGo"
      },
      "execution_count": null,
      "outputs": []
    },
    {
      "cell_type": "code",
      "source": [
        "tokenizer = Tokenizer(num_words=50,oov_token='<UNK>') # to convert sentences to number we r using tokenizer\n",
        "# oov- out of vocabulary is used for words or data when it's not there or new\n",
        "# without oov it won't show new data or words"
      ],
      "metadata": {
        "id": "ZIfHslcOTCDN"
      },
      "execution_count": null,
      "outputs": []
    },
    {
      "cell_type": "code",
      "source": [
        "tokenizer.fit_on_texts(sentences)"
      ],
      "metadata": {
        "id": "os_nHIxTTCAD"
      },
      "execution_count": null,
      "outputs": []
    },
    {
      "cell_type": "code",
      "source": [
        "index = tokenizer.word_index\n",
        "print(index)"
      ],
      "metadata": {
        "colab": {
          "base_uri": "https://localhost:8080/"
        },
        "id": "UtehUnw1TB6O",
        "outputId": "44843a24-830c-4922-917d-a55efd45013c"
      },
      "execution_count": null,
      "outputs": [
        {
          "output_type": "stream",
          "name": "stdout",
          "text": [
            "{'<UNK>': 1, 'is': 2, 'ai': 3, 'tensorflow': 4, 'and': 5, 'chatgpt': 6, 'the': 7, 'famous': 8, 'application': 9, 'easy': 10, 'to': 11, 'use': 12, 'war': 13, 'on': 14, 'between': 15, 'google': 16, 'microsoft': 17, 'pytorch': 18, 'are': 19, 'commonly': 20, 'used': 21, 'python': 22, 'frameworks': 23}\n"
          ]
        }
      ]
    },
    {
      "cell_type": "code",
      "source": [
        "seq = tokenizer.texts_to_sequences(sentences)\n",
        "seq  # the size of data shouldn't vary continously that's y we do padding"
      ],
      "metadata": {
        "colab": {
          "base_uri": "https://localhost:8080/"
        },
        "id": "sLem0VAxTBsG",
        "outputId": "d8efa030-8adb-457a-b8b2-7d1659065907"
      },
      "execution_count": null,
      "outputs": [
        {
          "output_type": "execute_result",
          "data": {
            "text/plain": [
              "[[6, 2, 7, 8, 3, 9],\n",
              " [4, 2, 10, 11, 12],\n",
              " [3, 13, 2, 14, 15, 16, 5, 17],\n",
              " [4, 5, 18, 19, 20, 21, 22, 23]]"
            ]
          },
          "metadata": {},
          "execution_count": 29
        }
      ]
    },
    {
      "cell_type": "code",
      "source": [
        "new_sentence = ['Bard AI application is coming soon']"
      ],
      "metadata": {
        "id": "9VENAAWnVWjS"
      },
      "execution_count": null,
      "outputs": []
    },
    {
      "cell_type": "code",
      "source": [
        "tokenizer.texts_to_sequences(new_sentence)"
      ],
      "metadata": {
        "colab": {
          "base_uri": "https://localhost:8080/"
        },
        "id": "BlqECzhsVWgZ",
        "outputId": "5bb5cbaf-3892-4e65-dc92-19553ee0d0be"
      },
      "execution_count": null,
      "outputs": [
        {
          "output_type": "execute_result",
          "data": {
            "text/plain": [
              "[[1, 3, 9, 2, 1, 1]]"
            ]
          },
          "metadata": {},
          "execution_count": 31
        }
      ]
    },
    {
      "cell_type": "code",
      "source": [
        "from tensorflow.keras.preprocessing.sequence import pad_sequences"
      ],
      "metadata": {
        "id": "XLOj2zL8VWdb"
      },
      "execution_count": null,
      "outputs": []
    },
    {
      "cell_type": "code",
      "source": [
        "text_pad = pad_sequences(seq,padding=\"post\",truncating=\"post\",maxlen=5)   # by default it's pre\n",
        "text_pad"
      ],
      "metadata": {
        "colab": {
          "base_uri": "https://localhost:8080/"
        },
        "id": "NHL2j_CUVWYv",
        "outputId": "0a5ce058-05df-4f4c-af5e-a448285f0803"
      },
      "execution_count": null,
      "outputs": [
        {
          "output_type": "execute_result",
          "data": {
            "text/plain": [
              "array([[ 6,  2,  7,  8,  3],\n",
              "       [ 4,  2, 10, 11, 12],\n",
              "       [ 3, 13,  2, 14, 15],\n",
              "       [ 4,  5, 18, 19, 20]], dtype=int32)"
            ]
          },
          "metadata": {},
          "execution_count": 34
        }
      ]
    },
    {
      "cell_type": "code",
      "source": [
        "seq    # the words are truncated to make size uniform "
      ],
      "metadata": {
        "colab": {
          "base_uri": "https://localhost:8080/"
        },
        "id": "GpsvUDysYCvZ",
        "outputId": "dc3e12fb-3c16-4d51-a5bf-a7696f20c355"
      },
      "execution_count": null,
      "outputs": [
        {
          "output_type": "execute_result",
          "data": {
            "text/plain": [
              "[[6, 2, 7, 8, 3, 9],\n",
              " [4, 2, 10, 11, 12],\n",
              " [3, 13, 2, 14, 15, 16, 5, 17],\n",
              " [4, 5, 18, 19, 20, 21, 22, 23]]"
            ]
          },
          "metadata": {},
          "execution_count": 35
        }
      ]
    },
    {
      "cell_type": "code",
      "source": [
        "text_pad = pad_sequences(seq,padding=\"pre\",truncating=\"post\",maxlen=25)\n",
        "text_pad"
      ],
      "metadata": {
        "colab": {
          "base_uri": "https://localhost:8080/"
        },
        "id": "blwTD3APYMai",
        "outputId": "c3dcd73d-61df-4821-d223-b7978a847183"
      },
      "execution_count": null,
      "outputs": [
        {
          "output_type": "execute_result",
          "data": {
            "text/plain": [
              "array([[ 0,  0,  0,  0,  0,  0,  0,  0,  0,  0,  0,  0,  0,  0,  0,  0,\n",
              "         0,  0,  0,  6,  2,  7,  8,  3,  9],\n",
              "       [ 0,  0,  0,  0,  0,  0,  0,  0,  0,  0,  0,  0,  0,  0,  0,  0,\n",
              "         0,  0,  0,  0,  4,  2, 10, 11, 12],\n",
              "       [ 0,  0,  0,  0,  0,  0,  0,  0,  0,  0,  0,  0,  0,  0,  0,  0,\n",
              "         0,  3, 13,  2, 14, 15, 16,  5, 17],\n",
              "       [ 0,  0,  0,  0,  0,  0,  0,  0,  0,  0,  0,  0,  0,  0,  0,  0,\n",
              "         0,  4,  5, 18, 19, 20, 21, 22, 23]], dtype=int32)"
            ]
          },
          "metadata": {},
          "execution_count": 37
        }
      ]
    },
    {
      "cell_type": "code",
      "source": [],
      "metadata": {
        "id": "Fngiw6GYYmMN"
      },
      "execution_count": null,
      "outputs": []
    },
    {
      "cell_type": "code",
      "source": [],
      "metadata": {
        "id": "Fy2EdF86YmHo"
      },
      "execution_count": null,
      "outputs": []
    },
    {
      "cell_type": "code",
      "source": [],
      "metadata": {
        "id": "KgzByX_LYmDZ"
      },
      "execution_count": null,
      "outputs": []
    },
    {
      "cell_type": "code",
      "source": [],
      "metadata": {
        "id": "yIKDuibdYl6v"
      },
      "execution_count": null,
      "outputs": []
    },
    {
      "cell_type": "code",
      "source": [],
      "metadata": {
        "id": "GCHfjB-9Yl3j"
      },
      "execution_count": null,
      "outputs": []
    }
  ]
}